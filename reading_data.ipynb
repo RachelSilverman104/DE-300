{
 "cells": [
  {
   "cell_type": "code",
   "execution_count": 5,
   "id": "ca99f968-23f2-4cde-82fe-032b2e827d60",
   "metadata": {},
   "outputs": [
    {
     "name": "stdout",
     "output_type": "stream",
     "text": [
      "  first_name last_name  age  gender      occupation           city state\n",
      "0       John       Doe   30    Male        Engineer       New York    NY\n",
      "1       Jane       Doe   28  Female        Engineer    Los Angeles    CA\n",
      "2        Bob     Smith   45    Male         Analyst        Chicago    IL\n",
      "3      Alice   Johnson   35  Female  Data Scientist  San Francisco    CA\n",
      "4        Tom     Brown   50    Male          Lawyer          Miami    FL\n"
     ]
    }
   ],
   "source": [
    "# Loading required package\n",
    "# If you don't have boto3 package, you may open terminal and install by pip\n",
    "# pip install boto3\n",
    "\n",
    "#import boto3\n",
    "from io import BytesIO\n",
    "import pandas as pd\n",
    "# you need to change the credentials for yourself\n",
    "# Note that aws_access_key_id changes from time to time\n",
    "\n",
    "#s3 = boto3.client('s3',\n",
    "#                  aws_access_key_id='...',\n",
    "#                  aws_secret_access_key='...',\n",
    "#                  aws_session_token='...')\n",
    "\n",
    "\n",
    "#bucket_name = 'de300spring2025'\n",
    "#object_key = 'dinglin_xia/sample_dataset.csv'\n",
    "#csv_obj = s3.get_object(Bucket=bucket_name, Key=object_key)\n",
    "#body = csv_obj['Body']\n",
    "#csv_string = body.read().decode('utf-8')\n",
    "df = pd.read_csv('sample_dataset.csv')\n",
    "print(df.head())"
   ]
  },
  {
   "cell_type": "code",
   "execution_count": null,
   "id": "a268c89b-814f-4101-93bc-1a3229309f81",
   "metadata": {},
   "outputs": [],
   "source": []
  }
 ],
 "metadata": {
  "kernelspec": {
   "display_name": "Python 3 (ipykernel)",
   "language": "python",
   "name": "python3"
  },
  "language_info": {
   "codemirror_mode": {
    "name": "ipython",
    "version": 3
   },
   "file_extension": ".py",
   "mimetype": "text/x-python",
   "name": "python",
   "nbconvert_exporter": "python",
   "pygments_lexer": "ipython3",
   "version": "3.11.6"
  }
 },
 "nbformat": 4,
 "nbformat_minor": 5
}
