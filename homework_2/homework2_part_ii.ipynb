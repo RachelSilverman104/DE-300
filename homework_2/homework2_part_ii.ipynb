{
 "cells": [
  {
   "cell_type": "code",
   "execution_count": 1,
   "id": "ece38a77-a005-4ece-a4c1-0070e34f2718",
   "metadata": {},
   "outputs": [
    {
     "name": "stdout",
     "output_type": "stream",
     "text": [
      "  % Total    % Received % Xferd  Average Speed   Time    Time     Time  Current\n",
      "                                 Dload  Upload   Total   Spent    Left  Speed\n",
      "100  1468  100  1468    0     0   4743      0 --:--:-- --:--:-- --:--:--  4750\n"
     ]
    }
   ],
   "source": [
    "!curl https://certs.secureserver.net/repository/sf-class2-root.crt -O"
   ]
  },
  {
   "cell_type": "code",
   "execution_count": 2,
   "id": "5f695c91-aa84-41c1-8af8-8208236a1356",
   "metadata": {},
   "outputs": [
    {
     "name": "stdout",
     "output_type": "stream",
     "text": [
      "Collecting cassandra-sigv4\n",
      "  Using cached cassandra_sigv4-4.0.2-py2.py3-none-any.whl.metadata (5.9 kB)\n",
      "Collecting cassandra-driver (from cassandra-sigv4)\n",
      "  Using cached cassandra_driver-3.29.2-cp311-cp311-manylinux_2_17_x86_64.manylinux2014_x86_64.whl.metadata (6.2 kB)\n",
      "Collecting boto3 (from cassandra-sigv4)\n",
      "  Using cached boto3-1.38.12-py3-none-any.whl.metadata (6.6 kB)\n",
      "Requirement already satisfied: six in /opt/conda/lib/python3.11/site-packages (from cassandra-sigv4) (1.16.0)\n",
      "Collecting botocore<1.39.0,>=1.38.12 (from boto3->cassandra-sigv4)\n",
      "  Using cached botocore-1.38.12-py3-none-any.whl.metadata (5.7 kB)\n",
      "Collecting jmespath<2.0.0,>=0.7.1 (from boto3->cassandra-sigv4)\n",
      "  Using cached jmespath-1.0.1-py3-none-any.whl.metadata (7.6 kB)\n",
      "Collecting s3transfer<0.13.0,>=0.12.0 (from boto3->cassandra-sigv4)\n",
      "  Using cached s3transfer-0.12.0-py3-none-any.whl.metadata (1.7 kB)\n",
      "Collecting geomet<0.3,>=0.1 (from cassandra-driver->cassandra-sigv4)\n",
      "  Using cached geomet-0.2.1.post1-py3-none-any.whl.metadata (1.0 kB)\n",
      "Requirement already satisfied: python-dateutil<3.0.0,>=2.1 in /opt/conda/lib/python3.11/site-packages (from botocore<1.39.0,>=1.38.12->boto3->cassandra-sigv4) (2.8.2)\n",
      "Requirement already satisfied: urllib3!=2.2.0,<3,>=1.25.4 in /opt/conda/lib/python3.11/site-packages (from botocore<1.39.0,>=1.38.12->boto3->cassandra-sigv4) (2.0.7)\n",
      "Requirement already satisfied: click in /opt/conda/lib/python3.11/site-packages (from geomet<0.3,>=0.1->cassandra-driver->cassandra-sigv4) (8.1.7)\n",
      "Using cached cassandra_sigv4-4.0.2-py2.py3-none-any.whl (9.8 kB)\n",
      "Using cached boto3-1.38.12-py3-none-any.whl (139 kB)\n",
      "Using cached cassandra_driver-3.29.2-cp311-cp311-manylinux_2_17_x86_64.manylinux2014_x86_64.whl (3.9 MB)\n",
      "Using cached botocore-1.38.12-py3-none-any.whl (13.5 MB)\n",
      "Using cached geomet-0.2.1.post1-py3-none-any.whl (18 kB)\n",
      "Using cached jmespath-1.0.1-py3-none-any.whl (20 kB)\n",
      "Using cached s3transfer-0.12.0-py3-none-any.whl (84 kB)\n",
      "Installing collected packages: jmespath, geomet, cassandra-driver, botocore, s3transfer, boto3, cassandra-sigv4\n",
      "Successfully installed boto3-1.38.12 botocore-1.38.12 cassandra-driver-3.29.2 cassandra-sigv4-4.0.2 geomet-0.2.1.post1 jmespath-1.0.1 s3transfer-0.12.0\n",
      "Note: you may need to restart the kernel to use updated packages.\n"
     ]
    }
   ],
   "source": [
    "%pip install cassandra-sigv4"
   ]
  },
  {
   "cell_type": "code",
   "execution_count": 3,
   "id": "48fff57f-9708-452c-9350-d3491ffa0651",
   "metadata": {},
   "outputs": [
    {
     "name": "stderr",
     "output_type": "stream",
     "text": [
      "/tmp/ipykernel_124/332746716.py:7: DeprecationWarning: ssl.PROTOCOL_TLSv1_2 is deprecated\n",
      "  ssl_context = SSLContext(PROTOCOL_TLSv1_2)\n"
     ]
    }
   ],
   "source": [
    "from cassandra.cluster import Cluster\n",
    "from ssl import SSLContext, PROTOCOL_TLSv1_2, CERT_REQUIRED\n",
    "from cassandra_sigv4.auth import SigV4AuthProvider\n",
    "import boto3\n",
    "\n",
    "# ssl setup\n",
    "ssl_context = SSLContext(PROTOCOL_TLSv1_2)\n",
    "ssl_context.load_verify_locations('sf-class2-root.crt')  # change your file path for locating the certificate\n",
    "ssl_context.verify_mode = CERT_REQUIRED\n",
    "\n",
    "# boto3 session setup\n",
    "boto_session = boto3.Session(region_name=\"us-east-2\")  # this AWS credentials is specific to `us-east-2` region"
   ]
  },
  {
   "cell_type": "code",
   "execution_count": 4,
   "id": "7555238a-74e0-4025-bd15-540ea992db19",
   "metadata": {},
   "outputs": [],
   "source": [
    "# authorization setup with SigV4\n",
    "auth_provider = SigV4AuthProvider(boto_session)"
   ]
  },
  {
   "cell_type": "code",
   "execution_count": 5,
   "id": "55b631cd-26aa-4635-af02-abe187129b45",
   "metadata": {},
   "outputs": [],
   "source": [
    "#cluster setup \n",
    "cluster = Cluster(['cassandra.us-east-2.amazonaws.com'], \n",
    "                  ssl_context=ssl_context, \n",
    "                  auth_provider=auth_provider, \n",
    "                  port=9142)  # TLS only communicates on port 9142"
   ]
  },
  {
   "cell_type": "code",
   "execution_count": 6,
   "id": "612c93e5-e434-4dc6-aedd-0ae9c6f6db8b",
   "metadata": {},
   "outputs": [],
   "source": [
    "# establishing connection to Keyspace\n",
    "session = cluster.connect()"
   ]
  },
  {
   "cell_type": "code",
   "execution_count": 7,
   "id": "0b9ad07f-e9ad-4173-b135-cf6860fb5374",
   "metadata": {},
   "outputs": [
    {
     "name": "stdout",
     "output_type": "stream",
     "text": [
      "[]\n"
     ]
    }
   ],
   "source": [
    "# For example, create a keyspace for HW2\n",
    "r = session.execute('''\n",
    "    CREATE KEYSPACE IF NOT EXISTS de300_hw2 \n",
    "    WITH replication = {'class': 'SingleRegionStrategy'};\n",
    "    ''')\n",
    "print(r.current_rows)"
   ]
  },
  {
   "cell_type": "code",
   "execution_count": 8,
   "id": "782b3fdf-489c-486f-b43b-f104576cdca1",
   "metadata": {},
   "outputs": [],
   "source": [
    "from cassandra.cluster import ExecutionProfile, EXEC_PROFILE_DEFAULT\n",
    "from cassandra import ConsistencyLevel\n",
    "\n",
    "\n",
    "# Define execution profile with LOCAL_QUORUM\n",
    "execution_profile = ExecutionProfile(\n",
    "    consistency_level=ConsistencyLevel.LOCAL_QUORUM\n",
    ")\n",
    "\n",
    "# Cluster setup with correct profile\n",
    "cluster = Cluster(\n",
    "    ['cassandra.us-east-2.amazonaws.com'],\n",
    "    ssl_context=ssl_context,\n",
    "    auth_provider=auth_provider,\n",
    "    port=9142,\n",
    "    execution_profiles={EXEC_PROFILE_DEFAULT: execution_profile}\n",
    ")\n",
    "\n",
    "# establishing connection to Keyspace\n",
    "session = cluster.connect()\n",
    "session.set_keyspace('de300_hw2')  # Replace with your keyspace"
   ]
  },
  {
   "cell_type": "code",
   "execution_count": 9,
   "id": "bb248aae-9871-47e7-87a8-caa72710921e",
   "metadata": {},
   "outputs": [],
   "source": [
    "import pandas as pd\n",
    "\n",
    "# This is the path to the CSV file inside the container\n",
    "admissions_w_age = pd.read_csv(\"ADMISSIONS_W_AGE.csv\")\n",
    "d_icd_proc = pd.read_csv(\"D_ICD_PROCEDURES.csv\")\n",
    "drgcodes = pd.read_csv(\"DRGCODES.csv\")\n",
    "icustays = pd.read_csv(\"ICUSTAYS.csv\")\n",
    "patients = pd.read_csv(\"PATIENTS.csv\")\n",
    "prescriptions = pd.read_csv(\"PRESCRIPTIONS.csv\")\n",
    "procs_icd = pd.read_csv(\"PROCEDURES_ICD.csv\")\n",
    "admissions = pd.read_csv(\"ADMISSIONS.csv\")\n",
    "icustays_hours = pd.read_csv(\"ICUSTAYS_W_HOURS.csv\")"
   ]
  },
  {
   "cell_type": "markdown",
   "id": "ec2bf8cc-1dc5-4d0b-a50b-9586db91caf1",
   "metadata": {},
   "source": [
    "Question 1:"
   ]
  },
  {
   "cell_type": "code",
   "execution_count": 25,
   "id": "f8c245fe-9e8a-410f-adcd-4476dd8c2d48",
   "metadata": {},
   "outputs": [
    {
     "data": {
      "text/html": [
       "<div>\n",
       "<style scoped>\n",
       "    .dataframe tbody tr th:only-of-type {\n",
       "        vertical-align: middle;\n",
       "    }\n",
       "\n",
       "    .dataframe tbody tr th {\n",
       "        vertical-align: top;\n",
       "    }\n",
       "\n",
       "    .dataframe thead th {\n",
       "        text-align: right;\n",
       "    }\n",
       "</style>\n",
       "<table border=\"1\" class=\"dataframe\">\n",
       "  <thead>\n",
       "    <tr style=\"text-align: right;\">\n",
       "      <th></th>\n",
       "      <th>row_id</th>\n",
       "      <th>subject_id</th>\n",
       "      <th>hadm_id</th>\n",
       "      <th>icustay_id</th>\n",
       "      <th>startdate</th>\n",
       "      <th>enddate</th>\n",
       "      <th>drug_type</th>\n",
       "      <th>drug</th>\n",
       "      <th>drug_name_poe</th>\n",
       "      <th>drug_name_generic</th>\n",
       "      <th>...</th>\n",
       "      <th>language</th>\n",
       "      <th>religion</th>\n",
       "      <th>marital_status</th>\n",
       "      <th>ethnicity</th>\n",
       "      <th>edregtime</th>\n",
       "      <th>edouttime</th>\n",
       "      <th>diagnosis</th>\n",
       "      <th>hospital_expire_flag</th>\n",
       "      <th>has_chartevents_data</th>\n",
       "      <th>age_group</th>\n",
       "    </tr>\n",
       "  </thead>\n",
       "  <tbody>\n",
       "    <tr>\n",
       "      <th>0</th>\n",
       "      <td>32600</td>\n",
       "      <td>42458</td>\n",
       "      <td>159647</td>\n",
       "      <td>NaN</td>\n",
       "      <td>2146-07-21 00:00:00</td>\n",
       "      <td>2146-07-22 00:00:00</td>\n",
       "      <td>MAIN</td>\n",
       "      <td>Pneumococcal Vac Polyvalent</td>\n",
       "      <td>Pneumococcal Vac Polyvalent</td>\n",
       "      <td>PNEUMOcoccal Vac Polyvalent</td>\n",
       "      <td>...</td>\n",
       "      <td>ENGL</td>\n",
       "      <td>JEWISH</td>\n",
       "      <td>MARRIED</td>\n",
       "      <td>WHITE</td>\n",
       "      <td>2146-07-21 11:13:00</td>\n",
       "      <td>2146-07-21 15:59:00</td>\n",
       "      <td>PNEUMONIA</td>\n",
       "      <td>0</td>\n",
       "      <td>1</td>\n",
       "      <td>80 or older</td>\n",
       "    </tr>\n",
       "    <tr>\n",
       "      <th>1</th>\n",
       "      <td>32601</td>\n",
       "      <td>42458</td>\n",
       "      <td>159647</td>\n",
       "      <td>NaN</td>\n",
       "      <td>2146-07-21 00:00:00</td>\n",
       "      <td>2146-07-22 00:00:00</td>\n",
       "      <td>MAIN</td>\n",
       "      <td>Bisacodyl</td>\n",
       "      <td>Bisacodyl</td>\n",
       "      <td>Bisacodyl</td>\n",
       "      <td>...</td>\n",
       "      <td>ENGL</td>\n",
       "      <td>JEWISH</td>\n",
       "      <td>MARRIED</td>\n",
       "      <td>WHITE</td>\n",
       "      <td>2146-07-21 11:13:00</td>\n",
       "      <td>2146-07-21 15:59:00</td>\n",
       "      <td>PNEUMONIA</td>\n",
       "      <td>0</td>\n",
       "      <td>1</td>\n",
       "      <td>80 or older</td>\n",
       "    </tr>\n",
       "    <tr>\n",
       "      <th>2</th>\n",
       "      <td>32602</td>\n",
       "      <td>42458</td>\n",
       "      <td>159647</td>\n",
       "      <td>NaN</td>\n",
       "      <td>2146-07-21 00:00:00</td>\n",
       "      <td>2146-07-22 00:00:00</td>\n",
       "      <td>MAIN</td>\n",
       "      <td>Bisacodyl</td>\n",
       "      <td>Bisacodyl</td>\n",
       "      <td>Bisacodyl (Rectal)</td>\n",
       "      <td>...</td>\n",
       "      <td>ENGL</td>\n",
       "      <td>JEWISH</td>\n",
       "      <td>MARRIED</td>\n",
       "      <td>WHITE</td>\n",
       "      <td>2146-07-21 11:13:00</td>\n",
       "      <td>2146-07-21 15:59:00</td>\n",
       "      <td>PNEUMONIA</td>\n",
       "      <td>0</td>\n",
       "      <td>1</td>\n",
       "      <td>80 or older</td>\n",
       "    </tr>\n",
       "    <tr>\n",
       "      <th>3</th>\n",
       "      <td>32603</td>\n",
       "      <td>42458</td>\n",
       "      <td>159647</td>\n",
       "      <td>NaN</td>\n",
       "      <td>2146-07-21 00:00:00</td>\n",
       "      <td>2146-07-22 00:00:00</td>\n",
       "      <td>MAIN</td>\n",
       "      <td>Senna</td>\n",
       "      <td>Senna</td>\n",
       "      <td>Senna</td>\n",
       "      <td>...</td>\n",
       "      <td>ENGL</td>\n",
       "      <td>JEWISH</td>\n",
       "      <td>MARRIED</td>\n",
       "      <td>WHITE</td>\n",
       "      <td>2146-07-21 11:13:00</td>\n",
       "      <td>2146-07-21 15:59:00</td>\n",
       "      <td>PNEUMONIA</td>\n",
       "      <td>0</td>\n",
       "      <td>1</td>\n",
       "      <td>80 or older</td>\n",
       "    </tr>\n",
       "    <tr>\n",
       "      <th>4</th>\n",
       "      <td>32604</td>\n",
       "      <td>42458</td>\n",
       "      <td>159647</td>\n",
       "      <td>NaN</td>\n",
       "      <td>2146-07-21 00:00:00</td>\n",
       "      <td>2146-07-21 00:00:00</td>\n",
       "      <td>MAIN</td>\n",
       "      <td>Docusate Sodium (Liquid)</td>\n",
       "      <td>Docusate Sodium (Liquid)</td>\n",
       "      <td>Docusate Sodium (Liquid)</td>\n",
       "      <td>...</td>\n",
       "      <td>ENGL</td>\n",
       "      <td>JEWISH</td>\n",
       "      <td>MARRIED</td>\n",
       "      <td>WHITE</td>\n",
       "      <td>2146-07-21 11:13:00</td>\n",
       "      <td>2146-07-21 15:59:00</td>\n",
       "      <td>PNEUMONIA</td>\n",
       "      <td>0</td>\n",
       "      <td>1</td>\n",
       "      <td>80 or older</td>\n",
       "    </tr>\n",
       "  </tbody>\n",
       "</table>\n",
       "<p>5 rows × 40 columns</p>\n",
       "</div>"
      ],
      "text/plain": [
       "   row_id  subject_id  hadm_id  icustay_id            startdate  \\\n",
       "0   32600       42458   159647         NaN  2146-07-21 00:00:00   \n",
       "1   32601       42458   159647         NaN  2146-07-21 00:00:00   \n",
       "2   32602       42458   159647         NaN  2146-07-21 00:00:00   \n",
       "3   32603       42458   159647         NaN  2146-07-21 00:00:00   \n",
       "4   32604       42458   159647         NaN  2146-07-21 00:00:00   \n",
       "\n",
       "               enddate drug_type                         drug  \\\n",
       "0  2146-07-22 00:00:00      MAIN  Pneumococcal Vac Polyvalent   \n",
       "1  2146-07-22 00:00:00      MAIN                    Bisacodyl   \n",
       "2  2146-07-22 00:00:00      MAIN                    Bisacodyl   \n",
       "3  2146-07-22 00:00:00      MAIN                        Senna   \n",
       "4  2146-07-21 00:00:00      MAIN     Docusate Sodium (Liquid)   \n",
       "\n",
       "                 drug_name_poe            drug_name_generic  ... language  \\\n",
       "0  Pneumococcal Vac Polyvalent  PNEUMOcoccal Vac Polyvalent  ...     ENGL   \n",
       "1                    Bisacodyl                    Bisacodyl  ...     ENGL   \n",
       "2                    Bisacodyl           Bisacodyl (Rectal)  ...     ENGL   \n",
       "3                        Senna                        Senna  ...     ENGL   \n",
       "4     Docusate Sodium (Liquid)     Docusate Sodium (Liquid)  ...     ENGL   \n",
       "\n",
       "   religion  marital_status ethnicity            edregtime  \\\n",
       "0    JEWISH         MARRIED     WHITE  2146-07-21 11:13:00   \n",
       "1    JEWISH         MARRIED     WHITE  2146-07-21 11:13:00   \n",
       "2    JEWISH         MARRIED     WHITE  2146-07-21 11:13:00   \n",
       "3    JEWISH         MARRIED     WHITE  2146-07-21 11:13:00   \n",
       "4    JEWISH         MARRIED     WHITE  2146-07-21 11:13:00   \n",
       "\n",
       "             edouttime  diagnosis hospital_expire_flag has_chartevents_data  \\\n",
       "0  2146-07-21 15:59:00  PNEUMONIA                    0                    1   \n",
       "1  2146-07-21 15:59:00  PNEUMONIA                    0                    1   \n",
       "2  2146-07-21 15:59:00  PNEUMONIA                    0                    1   \n",
       "3  2146-07-21 15:59:00  PNEUMONIA                    0                    1   \n",
       "4  2146-07-21 15:59:00  PNEUMONIA                    0                    1   \n",
       "\n",
       "     age_group  \n",
       "0  80 or older  \n",
       "1  80 or older  \n",
       "2  80 or older  \n",
       "3  80 or older  \n",
       "4  80 or older  \n",
       "\n",
       "[5 rows x 40 columns]"
      ]
     },
     "execution_count": 25,
     "metadata": {},
     "output_type": "execute_result"
    }
   ],
   "source": [
    "#!pip install duckdb\n",
    "import duckdb\n",
    "import pandas as pd\n",
    "\n",
    "con = duckdb.connect()\n",
    "con.register('prescriptions', prescriptions)\n",
    "con.register('admissions_w_age', admissions_w_age)\n",
    "\n",
    "\n",
    "ethnicity_drug = con.execute(\n",
    "    \"\"\"\n",
    "        SELECT *\n",
    "        FROM PRESCRIPTIONS\n",
    "        JOIN ADMISSIONS_W_AGE\n",
    "        ON PRESCRIPTIONS.hadm_id = ADMISSIONS_W_AGE.hadm_id\n",
    "   \"\"\" ).df()\n",
    "\n",
    "ethnicity_drug.head()"
   ]
  },
  {
   "cell_type": "code",
   "execution_count": null,
   "id": "26df559e-74a7-45be-8915-0720d10d79b0",
   "metadata": {},
   "outputs": [],
   "source": [
    "session.execute(\"\"\"\n",
    "    CREATE TABLE IF NOT EXISTS de300_hw2.ethnicity_drgtype (\n",
    "        unique_id uuid,             \n",
    "        ethnicity text,\n",
    "        drug_type text,\n",
    "        PRIMARY KEY ((ethnicity), unique_id)\n",
    "    ) WITH CLUSTERING ORDER BY (unique_id DESC);\n",
    "    \"\"\")"
   ]
  },
  {
   "cell_type": "code",
   "execution_count": null,
   "id": "e70c113b-94af-4c27-86ba-0e43dd807bac",
   "metadata": {},
   "outputs": [],
   "source": [
    "import uuid\n",
    "\n",
    "for _, row in ethnicity_drug.iterrows():\n",
    "    session.execute(\"\"\"\n",
    "        INSERT INTO de300_hw2.ethnicity_drgtype (unique_id, ethnicity, drug_type)\n",
    "        VALUES (%s, %s, %s)\n",
    "    \"\"\", (uuid.uuid4(), row['ethnicity'], row['drug_type']))\n"
   ]
  },
  {
   "cell_type": "code",
   "execution_count": null,
   "id": "79d40c46-769f-4bfd-965c-6a04e90ff67f",
   "metadata": {},
   "outputs": [],
   "source": [
    "from cassandra.query import SimpleStatement\n",
    "\n",
    "select = SimpleStatement(\n",
    "    \"SELECT ethnicity, drug_type FROM de300_hw2.ethnicity_drgtype\",\n",
    "    consistency_level=ConsistencyLevel.LOCAL_QUORUM\n",
    ")\n",
    "rows = session.execute(select)\n",
    "ethnicity_drug_df = pd.DataFrame(rows)"
   ]
  },
  {
   "cell_type": "code",
   "execution_count": 91,
   "id": "af505f22-81f2-4894-b0cb-930dd1b13215",
   "metadata": {},
   "outputs": [
    {
     "name": "stdout",
     "output_type": "stream",
     "text": [
      "Most Used Drug Type Use by Ethnicity:\n",
      "                                            ethnicity drug_type  total_amount\n",
      "20                                              WHITE      MAIN          5420\n",
      "10                     HISPANIC/LATINO - PUERTO RICAN      MAIN           860\n",
      "6                              BLACK/AFRICAN AMERICAN      MAIN           476\n",
      "17                              UNKNOWN/NOT SPECIFIED      MAIN           245\n",
      "8                                  HISPANIC OR LATINO      MAIN           226\n",
      "2   AMERICAN INDIAN/ALASKA NATIVE FEDERALLY RECOGN...      MAIN           200\n",
      "4                                               ASIAN      MAIN           121\n",
      "15                                   UNABLE TO OBTAIN      MAIN            89\n",
      "12                                              OTHER      MAIN            72\n"
     ]
    }
   ],
   "source": [
    "counts_by_ethnicity = (\n",
    "    ethnicity_drug_df\n",
    "    .groupby(['ethnicity', 'drug_type'])\n",
    "    .size()\n",
    "    .reset_index(name='total_amount')\n",
    "    .sort_values(['total_amount'], ascending= False)\n",
    ")\n",
    "\n",
    "print(\"Most Used Drug Type Use by Ethnicity:\")\n",
    "print(counts_by_ethnicity.groupby('ethnicity').head(1))\n"
   ]
  },
  {
   "cell_type": "markdown",
   "id": "40d9a56a-32b6-4cec-b5f1-7fe21bc78056",
   "metadata": {},
   "source": [
    "Question 2:"
   ]
  },
  {
   "cell_type": "code",
   "execution_count": 10,
   "id": "f72b7e32-48e7-4f51-9c98-c5286853a978",
   "metadata": {},
   "outputs": [
    {
     "name": "stdout",
     "output_type": "stream",
     "text": [
      "Collecting duckdb\n",
      "  Using cached duckdb-1.2.2-cp311-cp311-manylinux_2_17_x86_64.manylinux2014_x86_64.whl.metadata (966 bytes)\n",
      "Using cached duckdb-1.2.2-cp311-cp311-manylinux_2_17_x86_64.manylinux2014_x86_64.whl (20.2 MB)\n",
      "Installing collected packages: duckdb\n",
      "Successfully installed duckdb-1.2.2\n"
     ]
    }
   ],
   "source": [
    "!pip install duckdb\n",
    "import duckdb\n",
    "import pandas as pd\n",
    "\n",
    "con = duckdb.connect()\n",
    "con.register('procs_icd', procs_icd)\n",
    "con.register('d_icd_proc', d_icd_proc)\n",
    "con.register('admissions_w_age', admissions_w_age)\n",
    "\n",
    "proc_with_age = con.execute(\"\"\"\n",
    "    SELECT \n",
    "        procs_icd.*, \n",
    "        d_icd_proc.short_title,\n",
    "        admissions_w_age.age_group,\n",
    "    FROM procs_icd \n",
    "    JOIN d_icd_proc ON procs_icd.icd9_code = d_icd_proc.icd9_code\n",
    "    JOIN admissions_w_age ON procs_icd.hadm_id = admissions_w_age.hadm_id\n",
    "\"\"\").df()\n"
   ]
  },
  {
   "cell_type": "code",
   "execution_count": 15,
   "id": "c37bd769-0be0-416b-9125-c481b9545ba4",
   "metadata": {},
   "outputs": [
    {
     "data": {
      "text/plain": [
       "<cassandra.cluster.ResultSet at 0x717cf6b44290>"
      ]
     },
     "execution_count": 15,
     "metadata": {},
     "output_type": "execute_result"
    }
   ],
   "source": [
    "session.execute(\"\"\"\n",
    "    CREATE TABLE IF NOT EXISTS de300_hw2.agegroup_proc (\n",
    "        unique_id uuid,             \n",
    "        age_group text,\n",
    "        subject_id int,\n",
    "        short_title text,\n",
    "        icd9_code int,\n",
    "        PRIMARY KEY ((age_group), unique_id)\n",
    "    ) WITH CLUSTERING ORDER BY (unique_id DESC);\n",
    "\"\"\")\n"
   ]
  },
  {
   "cell_type": "code",
   "execution_count": 16,
   "id": "95d8018d-1fc2-4991-840c-505de18d8a21",
   "metadata": {},
   "outputs": [],
   "source": [
    "import uuid\n",
    "\n",
    "for _, row in proc_with_age.iterrows():\n",
    "    session.execute(\"\"\"\n",
    "        INSERT INTO de300_hw2.agegroup_proc (unique_id, age_group, subject_id, short_title, icd9_code)\n",
    "        VALUES (%s, %s, %s, %s, %s)\n",
    "    \"\"\", (uuid.uuid4(), row['age_group'], row['subject_id'], row['short_title'], row['icd9_code']))\n"
   ]
  },
  {
   "cell_type": "code",
   "execution_count": 11,
   "id": "5f0956ea-cfad-4a38-af0f-34096da49224",
   "metadata": {},
   "outputs": [],
   "source": [
    "from cassandra.query import SimpleStatement\n",
    "\n",
    "select = SimpleStatement(\n",
    "    \"SELECT age_group, short_title, icd9_code as procedure FROM de300_hw2.agegroup_proc\",\n",
    "    consistency_level=ConsistencyLevel.LOCAL_QUORUM\n",
    ")\n",
    "rows = session.execute(select)\n",
    "age_drug_df = pd.DataFrame(rows)"
   ]
  },
  {
   "cell_type": "code",
   "execution_count": 24,
   "id": "3e72756d-5861-495d-baf1-79c9149240f6",
   "metadata": {},
   "outputs": [
    {
     "name": "stdout",
     "output_type": "stream",
     "text": [
      "Most frequent procedures by age group:\n",
      "         age_group               short_title  procedure_count\n",
      "17   19 or younger           Venous cath NEC                2\n",
      "0    19 or younger  Applic ext fix dev-femur                1\n",
      "1    19 or younger         Atlas-axis fusion                1\n",
      "66           20-49           Venous cath NEC                9\n",
      "32           20-49   Entral infus nutrit sub                7\n",
      "28           20-49  Cont inv mec ven 96+ hrs                6\n",
      "165          50-79           Venous cath NEC               25\n",
      "98           50-79   Entral infus nutrit sub               22\n",
      "129          50-79   Packed cell transfusion               13\n",
      "235    80 or older           Venous cath NEC               20\n",
      "214    80 or older   Packed cell transfusion               13\n",
      "195    80 or older  Insert endotracheal tube                8\n"
     ]
    }
   ],
   "source": [
    "counts_by_agegroup = (\n",
    "    age_drug_df\n",
    "    .groupby(['age_group', 'short_title'])\n",
    "    .size()\n",
    "    .reset_index(name='procedure_count')\n",
    "    .sort_values(['age_group', 'procedure_count'], ascending=[True, False])\n",
    ")\n",
    "\n",
    "print(\"Most frequent procedures by age group:\")\n",
    "print(counts_by_agegroup.groupby('age_group').head(3))\n"
   ]
  },
  {
   "cell_type": "markdown",
   "id": "4f0d2f15-84f7-4da9-98bf-ae243b028b6c",
   "metadata": {},
   "source": [
    "Question 3:"
   ]
  },
  {
   "cell_type": "code",
   "execution_count": 90,
   "id": "940d903f-4dbb-454c-aa22-a4e3c7becb43",
   "metadata": {},
   "outputs": [],
   "source": [
    "#!pip install duckdb\n",
    "import duckdb\n",
    "import pandas as pd\n",
    "\n",
    "con = duckdb.connect()\n",
    "con.register('icustays_hours', icustays_hours)\n",
    "con.register('patients', patients)\n",
    "con.register('admissions', admissions)\n",
    "\n",
    "\n",
    "icuhours_gend_eth = con.execute(\n",
    "    \"\"\"\n",
    "        SELECT *\n",
    "        FROM ICUSTAYS_HOURS JOIN PATIENTS\n",
    "        ON ICUSTAYS_HOURS.subject_id = PATIENTS.subject_id\n",
    "        JOIN ADMISSIONS ON ICUSTAYS_HOURS.hadm_id = ADMISSIONS.hadm_id\n",
    "   \"\"\" ).df()\n"
   ]
  },
  {
   "cell_type": "code",
   "execution_count": 52,
   "id": "8956020e-ff85-410f-9402-b8708e4cd5b5",
   "metadata": {},
   "outputs": [
    {
     "data": {
      "text/plain": [
       "<cassandra.cluster.ResultSet at 0x766bf6bf26d0>"
      ]
     },
     "execution_count": 52,
     "metadata": {},
     "output_type": "execute_result"
    }
   ],
   "source": [
    "session.execute(\"\"\"DROP TABLE de300_hw2.icustayhrs\"\"\")"
   ]
  },
  {
   "cell_type": "code",
   "execution_count": 57,
   "id": "66c63fc1-4b9a-4a47-bc32-51ca71229d28",
   "metadata": {},
   "outputs": [
    {
     "data": {
      "text/plain": [
       "<cassandra.cluster.ResultSet at 0x766bf9826690>"
      ]
     },
     "execution_count": 57,
     "metadata": {},
     "output_type": "execute_result"
    }
   ],
   "source": [
    "session.execute(\"\"\"\n",
    "    CREATE TABLE IF NOT EXISTS de300_hw2.icustayhrs (\n",
    "        unique_id uuid,             \n",
    "        ethnicity text,\n",
    "        gender text,\n",
    "        hours_of_stay float,\n",
    "        PRIMARY KEY ((gender), ethnicity, unique_id)\n",
    "    ) WITH CLUSTERING ORDER BY (ethnicity DESC);\n",
    "\"\"\")"
   ]
  },
  {
   "cell_type": "code",
   "execution_count": 58,
   "id": "2d0113cd-f348-4828-add6-8ab076eda69f",
   "metadata": {},
   "outputs": [],
   "source": [
    "import uuid\n",
    "\n",
    "for _, row in icuhours_gend_eth.iterrows():\n",
    "    session.execute(\"\"\"\n",
    "        INSERT INTO de300_hw2.icustayhrs (unique_id, ethnicity, gender, hours_of_stay)\n",
    "        VALUES (%s, %s, %s, %s)\n",
    "    \"\"\", (uuid.uuid4(), row['ethnicity'], row['gender'], row['hours_of_stay']))\n"
   ]
  },
  {
   "cell_type": "code",
   "execution_count": 76,
   "id": "78cd7b86-a5ae-483c-85e2-8cf952d456cc",
   "metadata": {},
   "outputs": [],
   "source": [
    "from cassandra.query import SimpleStatement\n",
    "\n",
    "select = SimpleStatement(\n",
    "    \"SELECT ethnicity, gender, hours_of_stay FROM de300_hw2.icustayhrs\",\n",
    "    consistency_level=ConsistencyLevel.LOCAL_QUORUM\n",
    ")\n",
    "rows = session.execute(select)\n",
    "ethnicity_gend_stay = pd.DataFrame(rows)"
   ]
  },
  {
   "cell_type": "code",
   "execution_count": 89,
   "id": "e4d4dca4-51f8-4863-a007-4a03823cad11",
   "metadata": {},
   "outputs": [
    {
     "name": "stdout",
     "output_type": "stream",
     "text": [
      "Average hours of ICU stay by gender and ethnicity:\n",
      "                                            ethnicity gender  hours_of_stay\n",
      "12                                              WHITE      F          124.7\n",
      "13                                              WHITE      M           75.7\n",
      "10                              UNKNOWN/NOT SPECIFIED      F          133.0\n",
      "11                              UNKNOWN/NOT SPECIFIED      M           51.5\n",
      "9                                    UNABLE TO OBTAIN      M          320.6\n",
      "7                                               OTHER      F           32.1\n",
      "8                                               OTHER      M            2.5\n",
      "6                      HISPANIC/LATINO - PUERTO RICAN      M           77.8\n",
      "5                                  HISPANIC OR LATINO      F          179.0\n",
      "3                              BLACK/AFRICAN AMERICAN      F          268.9\n",
      "4                              BLACK/AFRICAN AMERICAN      M           71.4\n",
      "2                                               ASIAN      M          170.8\n",
      "1                                               ASIAN      F           15.9\n",
      "0   AMERICAN INDIAN/ALASKA NATIVE FEDERALLY RECOGN...      M          272.1\n"
     ]
    }
   ],
   "source": [
    "stay_by_eth_and_gend = (\n",
    "    ethnicity_gend_stay\n",
    "    .dropna(subset=['hours_of_stay']) \n",
    "    .groupby(['ethnicity', 'gender'])['hours_of_stay']\n",
    "    .mean()\n",
    "    .round(1)\n",
    "    .reset_index()\n",
    "    .sort_values(by=['ethnicity', 'hours_of_stay'], ascending=[False, False])\n",
    ")\n",
    "\n",
    "print(\"Average hours of ICU stay by gender and ethnicity:\")\n",
    "print(stay_by_eth_and_gend)"
   ]
  },
  {
   "cell_type": "code",
   "execution_count": 87,
   "id": "640dc522-4fc8-4d8b-9f69-45ac197cd849",
   "metadata": {},
   "outputs": [
    {
     "name": "stdout",
     "output_type": "stream",
     "text": [
      "Average hours of ICU stay by ethnicity:\n",
      "                                           ethnicity  hours_of_stay\n",
      "6                                   UNABLE TO OBTAIN          320.6\n",
      "0  AMERICAN INDIAN/ALASKA NATIVE FEDERALLY RECOGN...          272.1\n",
      "2                             BLACK/AFRICAN AMERICAN          184.2\n",
      "3                                 HISPANIC OR LATINO          179.0\n",
      "7                              UNKNOWN/NOT SPECIFIED          118.2\n",
      "8                                              WHITE           99.1\n",
      "1                                              ASIAN           93.4\n",
      "4                     HISPANIC/LATINO - PUERTO RICAN           77.8\n",
      "5                                              OTHER           22.2\n"
     ]
    }
   ],
   "source": [
    "stay_by_eth = (\n",
    "    ethnicity_gend_stay \n",
    "    .dropna(subset=['hours_of_stay']) \n",
    "    .groupby(['ethnicity'])['hours_of_stay']\n",
    "    .mean()\n",
    "    .round(1)\n",
    "    .reset_index()\n",
    "    .sort_values(by='hours_of_stay', ascending=False)\n",
    ")\n",
    "\n",
    "print(\"Average hours of ICU stay by ethnicity:\")\n",
    "print(stay_by_eth)"
   ]
  },
  {
   "cell_type": "code",
   "execution_count": 88,
   "id": "e403b94d-3c93-4a9c-80bb-26d7e8f41920",
   "metadata": {},
   "outputs": [
    {
     "name": "stdout",
     "output_type": "stream",
     "text": [
      "Average hours of ICU stay by gender:\n",
      "  gender  hours_of_stay\n",
      "1      M           84.3\n",
      "0      F          133.0\n"
     ]
    }
   ],
   "source": [
    "stay_by_gend = (\n",
    "    ethnicity_gend_stay\n",
    "    .dropna(subset=['hours_of_stay']) \n",
    "    .groupby(['gender'])['hours_of_stay']\n",
    "    .mean()\n",
    "    .round(1)\n",
    "    .reset_index()\n",
    "    .sort_values(by=['gender', 'hours_of_stay'], ascending=[False, False])\n",
    ")\n",
    "\n",
    "print(\"Average hours of ICU stay by gender:\")\n",
    "print(stay_by_gend)"
   ]
  }
 ],
 "metadata": {
  "kernelspec": {
   "display_name": "Python 3 (ipykernel)",
   "language": "python",
   "name": "python3"
  },
  "language_info": {
   "codemirror_mode": {
    "name": "ipython",
    "version": 3
   },
   "file_extension": ".py",
   "mimetype": "text/x-python",
   "name": "python",
   "nbconvert_exporter": "python",
   "pygments_lexer": "ipython3",
   "version": "3.11.6"
  }
 },
 "nbformat": 4,
 "nbformat_minor": 5
}
